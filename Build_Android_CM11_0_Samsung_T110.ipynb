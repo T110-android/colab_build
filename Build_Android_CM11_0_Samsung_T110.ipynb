{
  "nbformat": 4,
  "nbformat_minor": 0,
  "metadata": {
    "colab": {
      "name": "Build Android CM11.0 - Samsung T110",
      "provenance": [],
      "collapsed_sections": [],
      "authorship_tag": "ABX9TyM8OfISU/5dGn5HwBDOvC0M",
      "include_colab_link": true
    },
    "kernelspec": {
      "name": "python3",
      "display_name": "Python 3"
    },
    "language_info": {
      "name": "python"
    }
  },
  "cells": [
    {
      "cell_type": "markdown",
      "metadata": {
        "id": "view-in-github",
        "colab_type": "text"
      },
      "source": [
        "<a href=\"https://colab.research.google.com/github/T110-android/colab_build/blob/main/Build_Android_CM11_0_Samsung_T110.ipynb\" target=\"_parent\"><img src=\"https://colab.research.google.com/assets/colab-badge.svg\" alt=\"Open In Colab\"/></a>"
      ]
    },
    {
      "cell_type": "code",
      "metadata": {
        "colab": {
          "base_uri": "https://localhost:8080/",
          "height": 236
        },
        "id": "3qFq3O9XLOOC",
        "outputId": "5d830227-5cd3-41c8-c0bd-28f8eac012a5"
      },
      "source": [
        "# READ https://github.com/WassimBenzarti/colab-ssh#getting-started\n",
        "!pip install colab_ssh --upgrade\n",
        "from colab_ssh import launch_ssh_cloudflared\n",
        "\n",
        "#launch_ssh_cloudflared(password=\"<PUT_YOUR_PASSWORD_HERE>\")\n",
        "launch_ssh_cloudflared(password=\"q\")\n",
        "\n",
        "# SSH Config File Windows PowerShell\n",
        "# Create C:\\Users\\USERNAME\\.ssh\\config\n",
        "# Copy Client machine configuration config bellow (appears after you run this block)\n",
        "# https://developers.cloudflare.com/cloudflare-one/connections/connect-apps/install-and-setup/tunnel-guide#1-download-and-install-cloudflared\n",
        "# Download Cloudflare client and put in in C:\\bin\\cloudflared.exe and replace <PUT_THE_ABSOLUTE_CLOUDFLARE_PATH_HERE> with that.\n",
        "# Then you should be able to SSH from Windows Powershell"
      ],
      "execution_count": 2,
      "outputs": [
        {
          "output_type": "stream",
          "name": "stdout",
          "text": [
            "Requirement already satisfied: colab_ssh in /usr/local/lib/python3.7/dist-packages (0.3.27)\n"
          ]
        },
        {
          "output_type": "display_data",
          "data": {
            "text/html": [
              "<style>\n",
              "*{\n",
              "\toutline:none;\n",
              "}\n",
              "code{\n",
              "\tdisplay:inline-block;\n",
              "\tpadding:5px 10px;\n",
              "\tbackground: #444;\n",
              "\tborder-radius: 4px;\n",
              "\twhite-space: pre-wrap;\n",
              "\tposition:relative;\n",
              "\tcolor:white;\n",
              "}\n",
              ".copy-code-button{\n",
              "\tfloat:right;\n",
              "\tbackground:#333;\n",
              "\tcolor:white;\n",
              "\tborder: none;\n",
              "\tmargin: 0 0 0 10px;\n",
              "\tcursor: pointer;\n",
              "}\n",
              "p, li{\n",
              "\tmax-width:700px;\n",
              "}\n",
              ".choices{\n",
              "\tdisplay:flex;\n",
              "\tflex: 1 0 auto;\n",
              "}\n",
              ".choice-section{\n",
              "\tborder:solid 1px #555;\n",
              "\tborder-radius: 4px;\n",
              "\tmin-width:300px;\n",
              "\tmargin: 10px 15px 0 0;\n",
              "\tpadding: 0 15px 15px 15px ;\n",
              "}\n",
              ".button{\n",
              "\tpadding: 10px 15px;\n",
              "\tbackground:#333;\n",
              "\tborder-radius: 4px;\n",
              "\tborder:solid 1px #555;\n",
              "\tcolor:white;\n",
              "\tfont-weight:bold;\n",
              "\tcursor:pointer;\n",
              "}\n",
              ".pill{\n",
              "\tpadding:2px 4px;\n",
              "\tborder-radius: 100px;\n",
              "\tbackground-color:#e65858;\n",
              "\tfont-size:12px;\n",
              "\tfont-weight:bold;\n",
              "\tmargin: 0 15px;\n",
              "\tcolor:white;\n",
              "}\n",
              "</style>\n",
              "<details class=\"choice-section\">\n",
              "\t<summary style=\"cursor:pointer\">\n",
              "\t\t<h3 style=\"display:inline-block;margin-top:15px\">⚙️ Client machine configuration<span class=\"pill\">Required</span></h3>\n",
              "\t</summary>\n",
              "\t<p>Don't worry, you only have to do this <b>once per client machine</b>.</p>\n",
              "\t<ol>\n",
              "\t\t<li>Download <a href=\"https://developers.cloudflare.com/argo-tunnel/getting-started/installation\">Cloudflared (Argo Tunnel)</a>, then copy the absolute path of the cloudflare binary</li>\n",
              "\t\t<li>Now, you have to append the following to your SSH config file (usually under ~/.ssh/config), and make sure you replace the placeholder with the path you copied in Step 1:</li>\n",
              "\t</ol>\n",
              "\t<code>Host *.trycloudflare.com\n",
              "\tHostName %h\n",
              "\tUser root\n",
              "\tPort 22\n",
              "\tProxyCommand &ltPUT_THE_ABSOLUTE_CLOUDFLARE_PATH_HERE&gt access ssh --hostname %h\n",
              "\t</code>\n",
              "</details>\n",
              "<div class=\"choices\">\n",
              "\t<div class=\"choice-section\">\n",
              "\t\t<h4>SSH Terminal</h4>\n",
              "\t\t<p>To connect using your terminal, type this command:</p>\n",
              "\t\t<code>ssh highways-yarn-define-limousines.trycloudflare.com</code>\n",
              "\t</div>\n",
              "\t<div class=\"choice-section\">\n",
              "\t\t<h4>VSCode Remote SSH</h4>\n",
              "\t\t<p>You can also connect with VSCode Remote SSH (Ctrl+Shift+P and type \"Connect to Host...\"). Then, paste the following hostname in the opened command palette:</p>\n",
              "\t\t<code>highways-yarn-define-limousines.trycloudflare.com</code>\n",
              "\t</div>\n",
              "</div>\n",
              "\n",
              "<script>\n",
              "// Copy any string\n",
              "function fallbackCopyTextToClipboard(text) {\n",
              "  var textArea = document.createElement(\"textarea\");\n",
              "  textArea.value = text;\n",
              "  \n",
              "  // Avoid scrolling to bottom\n",
              "  textArea.style.top = \"0\";\n",
              "  textArea.style.left = \"0\";\n",
              "  textArea.style.position = \"fixed\";\n",
              "\n",
              "  document.body.appendChild(textArea);\n",
              "  textArea.focus();\n",
              "  textArea.select();\n",
              "\n",
              "  try {\n",
              "    var successful = document.execCommand('copy');\n",
              "    var msg = successful ? 'successful' : 'unsuccessful';\n",
              "    console.log('Fallback: Copying text command was ' + msg);\n",
              "  } catch (err) {\n",
              "    console.error('Fallback: Oops, unable to copy', err);\n",
              "  }\n",
              "\n",
              "  document.body.removeChild(textArea);\n",
              "}\n",
              "\n",
              "// Show the copy button with every code tag\n",
              "document.querySelectorAll('code').forEach(function (codeBlock) {\n",
              "\tconst codeToCopy= codeBlock.innerText;\n",
              "\tvar pre = document.createElement('pre');\n",
              "\tpre.innerText = codeToCopy;\n",
              "    var button = document.createElement('button');\n",
              "    button.className = 'copy-code-button';\n",
              "    button.type = 'button';\n",
              "    button.innerText = 'Copy';\n",
              "\tbutton.onclick = function(){\n",
              "\t\tfallbackCopyTextToClipboard(codeToCopy);\n",
              "\t\tbutton.innerText = 'Copied'\n",
              "\t\tsetTimeout(()=>{\n",
              "\t\t\tbutton.innerText = 'Copy'\n",
              "\t\t},2000)\n",
              "\t}\n",
              "\tcodeBlock.children = pre;\n",
              "\tcodeBlock.prepend(button)\n",
              "});\n",
              "</script>\n"
            ],
            "text/plain": [
              "<IPython.core.display.HTML object>"
            ]
          },
          "metadata": {}
        }
      ]
    },
    {
      "cell_type": "code",
      "metadata": {
        "colab": {
          "base_uri": "https://localhost:8080/"
        },
        "id": "myOv9vJj_BW0",
        "outputId": "4bb1f914-e698-4837-f274-d9ca3249bd84"
      },
      "source": [
        "%%bash\n",
        "PATH=/bin:$PATH\n",
        "curl http://commondatastorage.googleapis.com/git-repo-downloads/repo > /bin/repo\n",
        "chmod a+x /bin/repo\n",
        "\n",
        "git config --global user.email \"example@email.com\"\n",
        "git config --global user.name \"Example Mail\"\n",
        "\n",
        "rm -r /content/sample_data\n",
        "\n",
        "repo init --depth=1 -u git://github.com/CyanogenMod/android.git -b cm-11.0"
      ],
      "execution_count": null,
      "outputs": [
        {
          "output_type": "stream",
          "name": "stdout",
          "text": [
            "\n",
            "repo has been initialized in /content\n"
          ]
        },
        {
          "output_type": "stream",
          "name": "stderr",
          "text": [
            "  % Total    % Received % Xferd  Average Speed   Time    Time     Time  Current\n",
            "                                 Dload  Upload   Total   Spent    Left  Speed\n",
            "\r  0     0    0     0    0     0      0      0 --:--:-- --:--:-- --:--:--     0\r 28 44944   28 12633    0     0  22241      0  0:00:02 --:--:--  0:00:02 22202\r100 44944  100 44944    0     0  78987      0 --:--:-- --:--:-- --:--:-- 78849\n",
            "Downloading manifest from git://github.com/CyanogenMod/android.git\n"
          ]
        }
      ]
    },
    {
      "cell_type": "code",
      "metadata": {
        "colab": {
          "base_uri": "https://localhost:8080/"
        },
        "id": "rcORhQTBIQsM",
        "outputId": "3b29b9d3-85ce-4558-b1d5-68df9794c8fb"
      },
      "source": [
        "!git clone https://github.com/T110-android/android_platform_manifest /content/.repo/local_manifests/\n",
        "!rm -r /content/.repo/local_manifests/.git"
      ],
      "execution_count": null,
      "outputs": [
        {
          "output_type": "stream",
          "name": "stdout",
          "text": [
            "Cloning into '/content/.repo/local_manifests'...\n",
            "remote: Enumerating objects: 40, done.\u001b[K\n",
            "remote: Counting objects: 100% (40/40), done.\u001b[K\n",
            "remote: Compressing objects: 100% (36/36), done.\u001b[K\n",
            "remote: Total 40 (delta 12), reused 12 (delta 3), pack-reused 0\u001b[K\n",
            "Unpacking objects: 100% (40/40), done.\n"
          ]
        }
      ]
    },
    {
      "cell_type": "code",
      "metadata": {
        "colab": {
          "base_uri": "https://localhost:8080/"
        },
        "id": "JkaKtGBGWhaT",
        "outputId": "4ebd479d-0b91-4ddf-8e26-536ace865094"
      },
      "source": [
        "!update-alternatives --install /usr/bin/python python /usr/bin/python2.7 10\n",
        "!update-alternatives --install /usr/bin/python3 python3 /usr/bin/python2.7 3"
      ],
      "execution_count": null,
      "outputs": [
        {
          "output_type": "stream",
          "name": "stdout",
          "text": [
            "update-alternatives: using /usr/bin/python2.7 to provide /usr/bin/python3 (python3) in auto mode\n"
          ]
        }
      ]
    },
    {
      "cell_type": "code",
      "metadata": {
        "colab": {
          "base_uri": "https://localhost:8080/"
        },
        "id": "-wWrmJt8XDkO",
        "outputId": "97ebe838-8391-45fb-e19f-13d8d76d5c53"
      },
      "source": [
        "!update-alternatives --set python3 /usr/bin/python2.7"
      ],
      "execution_count": null,
      "outputs": [
        {
          "output_type": "stream",
          "name": "stdout",
          "text": [
            "update-alternatives: error: alternative /usr/bin/python2.7 for python3 not registered; not setting\n"
          ]
        }
      ]
    },
    {
      "cell_type": "code",
      "metadata": {
        "colab": {
          "base_uri": "https://localhost:8080/"
        },
        "id": "PW5FwppvW3K-",
        "outputId": "622199aa-527d-49dc-c792-f048eeef9c68"
      },
      "source": [
        "!python --version"
      ],
      "execution_count": null,
      "outputs": [
        {
          "output_type": "stream",
          "name": "stdout",
          "text": [
            "Python 2.7.17\n"
          ]
        }
      ]
    },
    {
      "cell_type": "code",
      "metadata": {
        "colab": {
          "base_uri": "https://localhost:8080/"
        },
        "id": "xcveQuznChr2",
        "outputId": "938c3e97-973f-4ae9-a56b-556d775dbb8a"
      },
      "source": [
        "!repo sync -f -c --force-sync --no-clone-bundle --no-tags -j$(nproc --all)"
      ],
      "execution_count": null,
      "outputs": [
        {
          "output_type": "stream",
          "name": "stdout",
          "text": [
            "warning: -f/--force-broken is now the default behavior, and the options are deprecated\n",
            "remote: Total 0 (delta 0), reused 0 (delta 0), pack-reused 0\u001b[K\n",
            "Fetching: 100% (472/472), done in 8m50.106s\n",
            "Garbage collecting: 100% (472/472), done in 8.145s\n",
            "Checking out files: 100% (9389/9389), done.\n",
            "Checking out files: 100% (44267/44267), done.\n",
            "Checking out files: 100% (556/556), done.\n",
            "Checking out files: 100% (3721/3721), done.\n",
            "Checking out files: 100% (6686/6686), done.\n",
            "Checking out files: 100% (4307/4307), done.\n",
            "Checking out files: 100% (50822/50822), done.\n",
            "Checking out files: 100% (10083/10083), done.\n",
            "Checking out files: 100% (3494/3494), done.\n",
            "Checking out files: 100% (7954/7954), done.\n",
            "Checking out files: 100% (580/580), done.\n",
            "Checking out files: 100% (336/336), done.\n",
            "Checking out files: 100% (14/14), done.\n",
            "Checking out files: 100% (5603/5603), done.\n",
            "Checking out files: 100% (161/161), done.\n",
            "Checking out files: 100% (11685/11685), done.\n",
            "Checking out files: 100% (573/573), done.\n",
            "Checking out files: 100% (2610/2610), done.\n",
            "Checking out files: 100% (871/871), done.\n",
            "Checking out files: 100% (341/341), done.\n",
            "Checking out files: 100% (39970/39970), done.\n",
            "Checking out files: 100% (23600/23600), done.\n",
            "Checking out files: 100% (8597/8597), done.\n",
            "Checking out files: 100% (1767/1767), done.\n",
            "Checking out files: 100% (575/575), done.\n",
            "Checking out files: 100% (9/9), done.\n",
            "Checking out files: 100% (137/137), done.\n",
            "Checking out files: 100% (376/376), done.\n",
            "Checking out files: 100% (193/193), done.\n",
            "Checking out files: 100% (108/108), done.\n",
            "Checking out files: 100% (134/134), done.\n",
            "Checking out files: 100% (431/431), done.\n",
            "Checking out files: 100% (171/171), done.\n",
            "Checking out files: 100% (111/111), done.\n",
            "Checking out files: 100% (50299/50299), done.\n",
            "Checking out files: 100% (175/175), done.\n",
            "Checking out files: 100% (181/181), done.\n",
            "Checking out files: 100% (4864/4864), done.\n",
            "Checking out files: 100% (135/135), done.\n",
            "Checking out files: 100% (4383/4383), done.\n",
            "Checking out files: 100% (192/192), done.\n",
            "Checking out files: 100% (28/28), done.\n",
            "Checking out files: 100% (378/378), done.\n",
            "Checking out files: 100% (109/109), done.\n",
            "Checking out files: 100% (182/182), done.\n",
            "Checking out files: 100% (433/433), done.\n",
            "Checking out files: 100% (181/181), done.\n",
            "Checking out files: 100% (1256/1256), done.\n",
            "Checking out files: 100% (2407/2407), done.\n",
            "Checking out files: 100% (2482/2482), done.\n",
            "Checking out files: 100% (7/7), done.\n",
            "Checking out files: 100% (2484/2484), done.\n",
            "Checking out files: 100% (177/177), done.\n",
            "Checking out files: 100% (126/126), done.\n",
            "Checking out files: 100% (182/182), done.\n",
            "Checking out: 100% (472/472), done in 4m24.504s\n",
            "repo sync has finished successfully.\n"
          ]
        }
      ]
    },
    {
      "cell_type": "code",
      "metadata": {
        "id": "e7OZ7IxqNLNk"
      },
      "source": [
        "!echo \"deb http://archive.ubuntu.com/ubuntu/ trusty universe\" >> /etc/apt/sources.list\n",
        "!echo \"deb http://archive.ubuntu.com/ubuntu/ trusty main\" >> /etc/apt/sources.list"
      ],
      "execution_count": null,
      "outputs": []
    },
    {
      "cell_type": "code",
      "metadata": {
        "colab": {
          "base_uri": "https://localhost:8080/"
        },
        "id": "0y0G-cIHNvvj",
        "outputId": "bfd95d52-7c6c-4d81-8ffc-632f88a84e55"
      },
      "source": [
        "!sudo apt-get update"
      ],
      "execution_count": null,
      "outputs": [
        {
          "output_type": "stream",
          "name": "stdout",
          "text": [
            "Hit:1 https://cloud.r-project.org/bin/linux/ubuntu bionic-cran40/ InRelease\n",
            "Ign:2 https://developer.download.nvidia.com/compute/cuda/repos/ubuntu1804/x86_64  InRelease\n",
            "Hit:3 http://security.ubuntu.com/ubuntu bionic-security InRelease\n",
            "Hit:4 http://ppa.launchpad.net/c2d4u.team/c2d4u4.0+/ubuntu bionic InRelease\n",
            "Hit:5 http://archive.ubuntu.com/ubuntu bionic InRelease\n",
            "Ign:6 https://developer.download.nvidia.com/compute/machine-learning/repos/ubuntu1804/x86_64  InRelease\n",
            "Hit:7 https://developer.download.nvidia.com/compute/cuda/repos/ubuntu1804/x86_64  Release\n",
            "Hit:8 https://developer.download.nvidia.com/compute/machine-learning/repos/ubuntu1804/x86_64  Release\n",
            "Hit:9 http://archive.ubuntu.com/ubuntu bionic-updates InRelease\n",
            "Hit:10 http://ppa.launchpad.net/cran/libgit2/ubuntu bionic InRelease\n",
            "Hit:11 http://archive.ubuntu.com/ubuntu bionic-backports InRelease\n",
            "Ign:12 http://archive.ubuntu.com/ubuntu trusty InRelease\n",
            "Hit:15 http://archive.ubuntu.com/ubuntu trusty Release\n",
            "Hit:16 http://ppa.launchpad.net/deadsnakes/ppa/ubuntu bionic InRelease\n",
            "Hit:17 http://ppa.launchpad.net/graphics-drivers/ppa/ubuntu bionic InRelease\n",
            "Reading package lists... Done\n",
            "W: Target Packages (universe/binary-amd64/Packages) is configured multiple times in /etc/apt/sources.list:51 and /etc/apt/sources.list:53\n",
            "W: Target Packages (universe/binary-all/Packages) is configured multiple times in /etc/apt/sources.list:51 and /etc/apt/sources.list:53\n",
            "W: Target Packages (main/binary-amd64/Packages) is configured multiple times in /etc/apt/sources.list:52 and /etc/apt/sources.list:54\n",
            "W: Target Packages (main/binary-all/Packages) is configured multiple times in /etc/apt/sources.list:52 and /etc/apt/sources.list:54\n",
            "W: Target Packages (universe/binary-amd64/Packages) is configured multiple times in /etc/apt/sources.list:51 and /etc/apt/sources.list:53\n",
            "W: Target Packages (universe/binary-all/Packages) is configured multiple times in /etc/apt/sources.list:51 and /etc/apt/sources.list:53\n",
            "W: Target Packages (main/binary-amd64/Packages) is configured multiple times in /etc/apt/sources.list:52 and /etc/apt/sources.list:54\n",
            "W: Target Packages (main/binary-all/Packages) is configured multiple times in /etc/apt/sources.list:52 and /etc/apt/sources.list:54\n"
          ]
        }
      ]
    },
    {
      "cell_type": "code",
      "metadata": {
        "colab": {
          "base_uri": "https://localhost:8080/"
        },
        "id": "2K7osue7La-j",
        "outputId": "2b621a63-072f-4706-a4ee-d0d1cf9a3ebb"
      },
      "source": [
        "!sudo apt-get install  tzdata=2014b-1 tzdata-java libnss3=2:3.15.4-1ubuntu7  libnss3-1d \\\n",
        " ca-certificates-java/trusty openjdk-7-jre-headless  openjdk-7-jdk openjdk-7-jre \\\n",
        " schedtool libbison-dev/trusty bison/trusty flex/trusty gperf/trusty lib32z1/trusty"
      ],
      "execution_count": 7,
      "outputs": [
        {
          "output_type": "stream",
          "name": "stdout",
          "text": [
            "Reading package lists... Done\n",
            "Building dependency tree       \n",
            "Reading state information... Done\n",
            "schedtool is already the newest version (1.3.0-2).\n",
            "bison is already the newest version (2:3.0.2.dfsg-2).\n",
            "ca-certificates-java is already the newest version (20130815ubuntu1).\n",
            "ca-certificates-java set to manually installed.\n",
            "flex is already the newest version (2.5.35-10.1ubuntu2).\n",
            "gperf is already the newest version (3.0.4-1).\n",
            "libbison-dev is already the newest version (2:3.0.2.dfsg-2).\n",
            "libnss3 is already the newest version (2:3.15.4-1ubuntu7).\n",
            "libnss3-1d is already the newest version (2:3.15.4-1ubuntu7).\n",
            "openjdk-7-jdk is already the newest version (7u51-2.4.6-1ubuntu4).\n",
            "openjdk-7-jre is already the newest version (7u51-2.4.6-1ubuntu4).\n",
            "openjdk-7-jre-headless is already the newest version (7u51-2.4.6-1ubuntu4).\n",
            "tzdata is already the newest version (2014b-1).\n",
            "tzdata set to manually installed.\n",
            "tzdata-java is already the newest version (2014b-1).\n",
            "Selected version '20130815ubuntu1' (Ubuntu:14.04/trusty [all]) for 'ca-certificates-java'\n",
            "Selected version '2:3.0.2.dfsg-2' (Ubuntu:14.04/trusty [amd64]) for 'libbison-dev'\n",
            "Selected version '2:3.0.2.dfsg-2' (Ubuntu:14.04/trusty [amd64]) for 'bison'\n",
            "Selected version '2.5.35-10.1ubuntu2' (Ubuntu:14.04/trusty [amd64]) for 'flex'\n",
            "Selected version '3.0.4-1' (Ubuntu:14.04/trusty [amd64]) for 'gperf'\n",
            "Selected version '1:1.2.8.dfsg-1ubuntu1' (Ubuntu:14.04/trusty [amd64]) for 'lib32z1'\n",
            "The following packages were automatically installed and are no longer required:\n",
            "  default-libmysqlclient-dev gdal-data libarmadillo-dev libarmadillo8\n",
            "  libarpack2 libarpack2-dev libavcodec-dev libavformat-dev libavresample-dev\n",
            "  libavutil-dev libcharls1 libdap-dev libdap25 libdapclient6v5 libdapserver7v5\n",
            "  libdc1394-22-dev libepsilon-dev libepsilon1 libexif-dev libexif12\n",
            "  libfreexl-dev libfreexl1 libfyba-dev libfyba0 libgdcm2-dev libgdcm2.8\n",
            "  libgeos-3.6.2 libgeos-c1v5 libgeos-dev libgeotiff-dev libgeotiff2 libgif-dev\n",
            "  libgif7 libgl2ps1.4 libgphoto2-6 libgphoto2-dev libgphoto2-port12\n",
            "  libhdf4-0-alt libhdf4-alt-dev libhdf5-openmpi-100 libilmbase-dev\n",
            "  libilmbase12 libjbig-dev libjson-c-dev libkml-dev libkmlbase1\n",
            "  libkmlconvenience1 libkmldom1 libkmlengine1 libkmlregionator1 libkmlxsd1\n",
            "  liblept5 libminizip-dev libminizip1 libmysqlclient-dev libmysqlclient20\n",
            "  libnetcdf-c++4 libnetcdf-dev libnetcdf13 libodbc1 libogdi3.2 libogdi3.2-dev\n",
            "  libopencv-core-dev libopencv-core3.2 libopencv-flann-dev libopencv-flann3.2\n",
            "  libopencv-imgproc-dev libopencv-imgproc3.2 libopencv-ml-dev libopencv-ml3.2\n",
            "  libopencv-photo-dev libopencv-photo3.2 libopencv-shape-dev\n",
            "  libopencv-shape3.2 libopencv-ts-dev libopencv-video-dev libopencv-video3.2\n",
            "  libopenexr-dev libopenexr22 libopenjp2-7-dev libpq-dev libpq5 libproj-dev\n",
            "  libproj12 libqhull-dev libqhull-r7 libqhull7 libraw1394-dev libsocket++1\n",
            "  libspatialite-dev libspatialite7 libsqlite3-dev libsuperlu-dev libsuperlu5\n",
            "  libswresample-dev libswscale-dev libtbb-dev libtbb2 libtesseract4\n",
            "  libtiff-dev libtiff5-dev libtiffxx5 liburiparser-dev liburiparser1\n",
            "  libwebp-dev libxerces-c-dev libxerces-c3.2 mysql-common odbcinst\n",
            "  odbcinst1debian2 proj-data python-numpy unixodbc-dev\n",
            "Use 'sudo apt autoremove' to remove them.\n",
            "The following NEW packages will be installed:\n",
            "  lib32z1\n",
            "0 upgraded, 1 newly installed, 0 to remove and 64 not upgraded.\n",
            "Need to get 57.5 kB of archives.\n",
            "After this operation, 178 kB of additional disk space will be used.\n",
            "Get:1 http://archive.ubuntu.com/ubuntu trusty/main amd64 lib32z1 amd64 1:1.2.8.dfsg-1ubuntu1 [57.5 kB]\n",
            "Fetched 57.5 kB in 1s (48.1 kB/s)\n",
            "debconf: unable to initialize frontend: Dialog\n",
            "debconf: (No usable dialog-like program is installed, so the dialog based frontend cannot be used. at /usr/share/perl5/Debconf/FrontEnd/Dialog.pm line 76, <> line 1.)\n",
            "debconf: falling back to frontend: Readline\n",
            "debconf: unable to initialize frontend: Readline\n",
            "debconf: (This frontend requires a controlling tty.)\n",
            "debconf: falling back to frontend: Teletype\n",
            "dpkg-preconfigure: unable to re-open stdin: \n",
            "Selecting previously unselected package lib32z1.\n",
            "(Reading database ... 157873 files and directories currently installed.)\n",
            "Preparing to unpack .../lib32z1_1%3a1.2.8.dfsg-1ubuntu1_amd64.deb ...\n",
            "Unpacking lib32z1 (1:1.2.8.dfsg-1ubuntu1) ...\n",
            "Setting up lib32z1 (1:1.2.8.dfsg-1ubuntu1) ...\n",
            "Processing triggers for libc-bin (2.27-3ubuntu1.3) ...\n",
            "/sbin/ldconfig.real: /usr/local/lib/python3.7/dist-packages/ideep4py/lib/libmkldnn.so.0 is not a symbolic link\n",
            "\n"
          ]
        }
      ]
    },
    {
      "cell_type": "code",
      "metadata": {
        "id": "DOViKgaBcTvo"
      },
      "source": [
        "!rm -r /content/hardware/broadcom/libbt"
      ],
      "execution_count": null,
      "outputs": []
    },
    {
      "cell_type": "code",
      "metadata": {
        "id": "uWZdrEfegwQ0"
      },
      "source": [
        "# You can also do this over SSH\n",
        "# make -j$(nproc --all)\n",
        "# brunch cm_goyawifi-eng\n",
        "# Read /content/build/envsetup.sh header for build details"
      ],
      "execution_count": null,
      "outputs": []
    },
    {
      "cell_type": "code",
      "metadata": {
        "id": "ntkcwv5NJjRg"
      },
      "source": [
        "%%shell\n",
        ". build/envsetup.sh\n",
        "breakfast cm_goyawifi-eng\n",
        "mka"
      ],
      "execution_count": null,
      "outputs": []
    }
  ]
}