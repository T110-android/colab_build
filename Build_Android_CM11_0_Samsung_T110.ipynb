{
  "nbformat": 4,
  "nbformat_minor": 0,
  "metadata": {
    "colab": {
      "name": "Build Android CM11.0 - Samsung T110",
      "provenance": [],
      "collapsed_sections": [],
      "authorship_tag": "ABX9TyOD+wjrQdZ5ymObko6ZUBl3",
      "include_colab_link": true
    },
    "kernelspec": {
      "name": "python3",
      "display_name": "Python 3"
    },
    "language_info": {
      "name": "python"
    }
  },
  "cells": [
    {
      "cell_type": "markdown",
      "metadata": {
        "id": "view-in-github",
        "colab_type": "text"
      },
      "source": [
        "<a href=\"https://colab.research.google.com/github/T110-android/colab_build/blob/main/Build_Android_CM11_0_Samsung_T110.ipynb\" target=\"_parent\"><img src=\"https://colab.research.google.com/assets/colab-badge.svg\" alt=\"Open In Colab\"/></a>"
      ]
    },
    {
      "cell_type": "code",
      "metadata": {
        "colab": {
          "base_uri": "https://localhost:8080/"
        },
        "id": "myOv9vJj_BW0",
        "outputId": "4bb1f914-e698-4837-f274-d9ca3249bd84"
      },
      "source": [
        "%%bash\n",
        "PATH=/bin:$PATH\n",
        "curl http://commondatastorage.googleapis.com/git-repo-downloads/repo > /bin/repo\n",
        "chmod a+x /bin/repo\n",
        "\n",
        "git config --global user.email \"example@email.com\"\n",
        "git config --global user.name \"Example Mail\"\n",
        "\n",
        "rm -r /content/sample_data\n",
        "\n",
        "repo init --depth=1 -u git://github.com/CyanogenMod/android.git -b cm-11.0"
      ],
      "execution_count": null,
      "outputs": [
        {
          "output_type": "stream",
          "name": "stdout",
          "text": [
            "\n",
            "repo has been initialized in /content\n"
          ]
        },
        {
          "output_type": "stream",
          "name": "stderr",
          "text": [
            "  % Total    % Received % Xferd  Average Speed   Time    Time     Time  Current\n",
            "                                 Dload  Upload   Total   Spent    Left  Speed\n",
            "\r  0     0    0     0    0     0      0      0 --:--:-- --:--:-- --:--:--     0\r 28 44944   28 12633    0     0  22241      0  0:00:02 --:--:--  0:00:02 22202\r100 44944  100 44944    0     0  78987      0 --:--:-- --:--:-- --:--:-- 78849\n",
            "Downloading manifest from git://github.com/CyanogenMod/android.git\n"
          ]
        }
      ]
    },
    {
      "cell_type": "code",
      "metadata": {
        "colab": {
          "base_uri": "https://localhost:8080/"
        },
        "id": "JkaKtGBGWhaT",
        "outputId": "4ebd479d-0b91-4ddf-8e26-536ace865094"
      },
      "source": [
        "!update-alternatives --install /usr/bin/python python /usr/bin/python2.7 10\n",
        "!update-alternatives --install /usr/bin/python3 python3 /usr/bin/python2.7 3"
      ],
      "execution_count": null,
      "outputs": [
        {
          "output_type": "stream",
          "name": "stdout",
          "text": [
            "update-alternatives: using /usr/bin/python2.7 to provide /usr/bin/python3 (python3) in auto mode\n"
          ]
        }
      ]
    },
    {
      "cell_type": "code",
      "metadata": {
        "colab": {
          "base_uri": "https://localhost:8080/"
        },
        "id": "-wWrmJt8XDkO",
        "outputId": "97ebe838-8391-45fb-e19f-13d8d76d5c53"
      },
      "source": [
        "!update-alternatives --set python3 /usr/bin/python2.7"
      ],
      "execution_count": null,
      "outputs": [
        {
          "output_type": "stream",
          "name": "stdout",
          "text": [
            "update-alternatives: error: alternative /usr/bin/python2.7 for python3 not registered; not setting\n"
          ]
        }
      ]
    },
    {
      "cell_type": "code",
      "metadata": {
        "colab": {
          "base_uri": "https://localhost:8080/"
        },
        "id": "PW5FwppvW3K-",
        "outputId": "622199aa-527d-49dc-c792-f048eeef9c68"
      },
      "source": [
        "!python --version"
      ],
      "execution_count": null,
      "outputs": [
        {
          "output_type": "stream",
          "name": "stdout",
          "text": [
            "Python 2.7.17\n"
          ]
        }
      ]
    },
    {
      "cell_type": "code",
      "metadata": {
        "colab": {
          "base_uri": "https://localhost:8080/"
        },
        "id": "rcORhQTBIQsM",
        "outputId": "3b29b9d3-85ce-4558-b1d5-68df9794c8fb"
      },
      "source": [
        "!git clone https://github.com/T110-android/android_platform_manifest /content/.repo/local_manifests/\n",
        "!rm -r /content/.repo/local_manifests/.git"
      ],
      "execution_count": null,
      "outputs": [
        {
          "output_type": "stream",
          "name": "stdout",
          "text": [
            "Cloning into '/content/.repo/local_manifests'...\n",
            "remote: Enumerating objects: 40, done.\u001b[K\n",
            "remote: Counting objects: 100% (40/40), done.\u001b[K\n",
            "remote: Compressing objects: 100% (36/36), done.\u001b[K\n",
            "remote: Total 40 (delta 12), reused 12 (delta 3), pack-reused 0\u001b[K\n",
            "Unpacking objects: 100% (40/40), done.\n"
          ]
        }
      ]
    },
    {
      "cell_type": "code",
      "metadata": {
        "colab": {
          "base_uri": "https://localhost:8080/"
        },
        "id": "xcveQuznChr2",
        "outputId": "938c3e97-973f-4ae9-a56b-556d775dbb8a"
      },
      "source": [
        "!repo sync -f -c --force-sync --no-clone-bundle --no-tags -j$(nproc --all)"
      ],
      "execution_count": null,
      "outputs": [
        {
          "output_type": "stream",
          "name": "stdout",
          "text": [
            "warning: -f/--force-broken is now the default behavior, and the options are deprecated\n",
            "remote: Total 0 (delta 0), reused 0 (delta 0), pack-reused 0\u001b[K\n",
            "Fetching: 100% (472/472), done in 8m50.106s\n",
            "Garbage collecting: 100% (472/472), done in 8.145s\n",
            "Checking out files: 100% (9389/9389), done.\n",
            "Checking out files: 100% (44267/44267), done.\n",
            "Checking out files: 100% (556/556), done.\n",
            "Checking out files: 100% (3721/3721), done.\n",
            "Checking out files: 100% (6686/6686), done.\n",
            "Checking out files: 100% (4307/4307), done.\n",
            "Checking out files: 100% (50822/50822), done.\n",
            "Checking out files: 100% (10083/10083), done.\n",
            "Checking out files: 100% (3494/3494), done.\n",
            "Checking out files: 100% (7954/7954), done.\n",
            "Checking out files: 100% (580/580), done.\n",
            "Checking out files: 100% (336/336), done.\n",
            "Checking out files: 100% (14/14), done.\n",
            "Checking out files: 100% (5603/5603), done.\n",
            "Checking out files: 100% (161/161), done.\n",
            "Checking out files: 100% (11685/11685), done.\n",
            "Checking out files: 100% (573/573), done.\n",
            "Checking out files: 100% (2610/2610), done.\n",
            "Checking out files: 100% (871/871), done.\n",
            "Checking out files: 100% (341/341), done.\n",
            "Checking out files: 100% (39970/39970), done.\n",
            "Checking out files: 100% (23600/23600), done.\n",
            "Checking out files: 100% (8597/8597), done.\n",
            "Checking out files: 100% (1767/1767), done.\n",
            "Checking out files: 100% (575/575), done.\n",
            "Checking out files: 100% (9/9), done.\n",
            "Checking out files: 100% (137/137), done.\n",
            "Checking out files: 100% (376/376), done.\n",
            "Checking out files: 100% (193/193), done.\n",
            "Checking out files: 100% (108/108), done.\n",
            "Checking out files: 100% (134/134), done.\n",
            "Checking out files: 100% (431/431), done.\n",
            "Checking out files: 100% (171/171), done.\n",
            "Checking out files: 100% (111/111), done.\n",
            "Checking out files: 100% (50299/50299), done.\n",
            "Checking out files: 100% (175/175), done.\n",
            "Checking out files: 100% (181/181), done.\n",
            "Checking out files: 100% (4864/4864), done.\n",
            "Checking out files: 100% (135/135), done.\n",
            "Checking out files: 100% (4383/4383), done.\n",
            "Checking out files: 100% (192/192), done.\n",
            "Checking out files: 100% (28/28), done.\n",
            "Checking out files: 100% (378/378), done.\n",
            "Checking out files: 100% (109/109), done.\n",
            "Checking out files: 100% (182/182), done.\n",
            "Checking out files: 100% (433/433), done.\n",
            "Checking out files: 100% (181/181), done.\n",
            "Checking out files: 100% (1256/1256), done.\n",
            "Checking out files: 100% (2407/2407), done.\n",
            "Checking out files: 100% (2482/2482), done.\n",
            "Checking out files: 100% (7/7), done.\n",
            "Checking out files: 100% (2484/2484), done.\n",
            "Checking out files: 100% (177/177), done.\n",
            "Checking out files: 100% (126/126), done.\n",
            "Checking out files: 100% (182/182), done.\n",
            "Checking out: 100% (472/472), done in 4m24.504s\n",
            "repo sync has finished successfully.\n"
          ]
        }
      ]
    },
    {
      "cell_type": "code",
      "metadata": {
        "id": "e7OZ7IxqNLNk"
      },
      "source": [
        "!echo \"deb http://archive.ubuntu.com/ubuntu/ trusty universe\" >> /etc/apt/sources.list\n",
        "!echo \"deb http://archive.ubuntu.com/ubuntu/ trusty main\" >> /etc/apt/sources.list"
      ],
      "execution_count": null,
      "outputs": []
    },
    {
      "cell_type": "code",
      "metadata": {
        "colab": {
          "base_uri": "https://localhost:8080/"
        },
        "id": "0y0G-cIHNvvj",
        "outputId": "bfd95d52-7c6c-4d81-8ffc-632f88a84e55"
      },
      "source": [
        "!sudo apt-get update"
      ],
      "execution_count": null,
      "outputs": [
        {
          "output_type": "stream",
          "name": "stdout",
          "text": [
            "Hit:1 https://cloud.r-project.org/bin/linux/ubuntu bionic-cran40/ InRelease\n",
            "Ign:2 https://developer.download.nvidia.com/compute/cuda/repos/ubuntu1804/x86_64  InRelease\n",
            "Hit:3 http://security.ubuntu.com/ubuntu bionic-security InRelease\n",
            "Hit:4 http://ppa.launchpad.net/c2d4u.team/c2d4u4.0+/ubuntu bionic InRelease\n",
            "Hit:5 http://archive.ubuntu.com/ubuntu bionic InRelease\n",
            "Ign:6 https://developer.download.nvidia.com/compute/machine-learning/repos/ubuntu1804/x86_64  InRelease\n",
            "Hit:7 https://developer.download.nvidia.com/compute/cuda/repos/ubuntu1804/x86_64  Release\n",
            "Hit:8 https://developer.download.nvidia.com/compute/machine-learning/repos/ubuntu1804/x86_64  Release\n",
            "Hit:9 http://archive.ubuntu.com/ubuntu bionic-updates InRelease\n",
            "Hit:10 http://ppa.launchpad.net/cran/libgit2/ubuntu bionic InRelease\n",
            "Hit:11 http://archive.ubuntu.com/ubuntu bionic-backports InRelease\n",
            "Ign:12 http://archive.ubuntu.com/ubuntu trusty InRelease\n",
            "Hit:15 http://archive.ubuntu.com/ubuntu trusty Release\n",
            "Hit:16 http://ppa.launchpad.net/deadsnakes/ppa/ubuntu bionic InRelease\n",
            "Hit:17 http://ppa.launchpad.net/graphics-drivers/ppa/ubuntu bionic InRelease\n",
            "Reading package lists... Done\n",
            "W: Target Packages (universe/binary-amd64/Packages) is configured multiple times in /etc/apt/sources.list:51 and /etc/apt/sources.list:53\n",
            "W: Target Packages (universe/binary-all/Packages) is configured multiple times in /etc/apt/sources.list:51 and /etc/apt/sources.list:53\n",
            "W: Target Packages (main/binary-amd64/Packages) is configured multiple times in /etc/apt/sources.list:52 and /etc/apt/sources.list:54\n",
            "W: Target Packages (main/binary-all/Packages) is configured multiple times in /etc/apt/sources.list:52 and /etc/apt/sources.list:54\n",
            "W: Target Packages (universe/binary-amd64/Packages) is configured multiple times in /etc/apt/sources.list:51 and /etc/apt/sources.list:53\n",
            "W: Target Packages (universe/binary-all/Packages) is configured multiple times in /etc/apt/sources.list:51 and /etc/apt/sources.list:53\n",
            "W: Target Packages (main/binary-amd64/Packages) is configured multiple times in /etc/apt/sources.list:52 and /etc/apt/sources.list:54\n",
            "W: Target Packages (main/binary-all/Packages) is configured multiple times in /etc/apt/sources.list:52 and /etc/apt/sources.list:54\n"
          ]
        }
      ]
    },
    {
      "cell_type": "code",
      "metadata": {
        "colab": {
          "base_uri": "https://localhost:8080/"
        },
        "id": "2K7osue7La-j",
        "outputId": "c3fd2632-dd0a-46fc-bd19-c071049f6e17"
      },
      "source": [
        "!sudo apt-get install  tzdata=2014b-1 tzdata-java libnss3=2:3.15.4-1ubuntu7  libnss3-1d \\\n",
        " ca-certificates-java/trusty openjdk-7-jre-headless  openjdk-7-jdk openjdk-7-jre \\\n",
        " schedtool libbison-dev/trusty bison/trusty"
      ],
      "execution_count": null,
      "outputs": [
        {
          "output_type": "stream",
          "name": "stdout",
          "text": [
            "Reading package lists... Done\n",
            "Building dependency tree       \n",
            "Reading state information... Done\n",
            "schedtool is already the newest version (1.3.0-2).\n",
            "bison is already the newest version (2:3.0.2.dfsg-2).\n",
            "ca-certificates-java is already the newest version (20130815ubuntu1).\n",
            "ca-certificates-java set to manually installed.\n",
            "libbison-dev is already the newest version (2:3.0.2.dfsg-2).\n",
            "libnss3 is already the newest version (2:3.15.4-1ubuntu7).\n",
            "libnss3-1d is already the newest version (2:3.15.4-1ubuntu7).\n",
            "openjdk-7-jdk is already the newest version (7u51-2.4.6-1ubuntu4).\n",
            "openjdk-7-jre is already the newest version (7u51-2.4.6-1ubuntu4).\n",
            "openjdk-7-jre-headless is already the newest version (7u51-2.4.6-1ubuntu4).\n",
            "tzdata is already the newest version (2014b-1).\n",
            "tzdata set to manually installed.\n",
            "tzdata-java is already the newest version (2014b-1).\n",
            "Selected version '20130815ubuntu1' (Ubuntu:14.04/trusty [all]) for 'ca-certificates-java'\n",
            "Selected version '2:3.0.2.dfsg-2' (Ubuntu:14.04/trusty [amd64]) for 'libbison-dev'\n",
            "Selected version '2:3.0.2.dfsg-2' (Ubuntu:14.04/trusty [amd64]) for 'bison'\n",
            "The following packages were automatically installed and are no longer required:\n",
            "  default-libmysqlclient-dev gdal-data libarmadillo-dev libarmadillo8\n",
            "  libarpack2 libarpack2-dev libavcodec-dev libavformat-dev libavresample-dev\n",
            "  libavutil-dev libcharls1 libdap-dev libdap25 libdapclient6v5 libdapserver7v5\n",
            "  libdc1394-22-dev libepsilon-dev libepsilon1 libexif-dev libexif12\n",
            "  libfreexl-dev libfreexl1 libfyba-dev libfyba0 libgdcm2-dev libgdcm2.8\n",
            "  libgeos-3.6.2 libgeos-c1v5 libgeos-dev libgeotiff-dev libgeotiff2 libgif-dev\n",
            "  libgif7 libgl2ps1.4 libgphoto2-6 libgphoto2-dev libgphoto2-port12\n",
            "  libhdf4-0-alt libhdf4-alt-dev libhdf5-openmpi-100 libilmbase-dev\n",
            "  libilmbase12 libjbig-dev libjson-c-dev libkml-dev libkmlbase1\n",
            "  libkmlconvenience1 libkmldom1 libkmlengine1 libkmlregionator1 libkmlxsd1\n",
            "  liblept5 libminizip-dev libminizip1 libmysqlclient-dev libmysqlclient20\n",
            "  libnetcdf-c++4 libnetcdf-dev libnetcdf13 libodbc1 libogdi3.2 libogdi3.2-dev\n",
            "  libopencv-core-dev libopencv-core3.2 libopencv-flann-dev libopencv-flann3.2\n",
            "  libopencv-imgproc-dev libopencv-imgproc3.2 libopencv-ml-dev libopencv-ml3.2\n",
            "  libopencv-photo-dev libopencv-photo3.2 libopencv-shape-dev\n",
            "  libopencv-shape3.2 libopencv-ts-dev libopencv-video-dev libopencv-video3.2\n",
            "  libopenexr-dev libopenexr22 libopenjp2-7-dev libpq-dev libpq5 libproj-dev\n",
            "  libproj12 libqhull-dev libqhull-r7 libqhull7 libraw1394-dev libsocket++1\n",
            "  libspatialite-dev libspatialite7 libsqlite3-dev libsuperlu-dev libsuperlu5\n",
            "  libswresample-dev libswscale-dev libtbb-dev libtbb2 libtesseract4\n",
            "  libtiff-dev libtiff5-dev libtiffxx5 liburiparser-dev liburiparser1\n",
            "  libwebp-dev libxerces-c-dev libxerces-c3.2 mysql-common odbcinst\n",
            "  odbcinst1debian2 proj-data python-numpy unixodbc-dev\n",
            "Use 'sudo apt autoremove' to remove them.\n",
            "0 upgraded, 0 newly installed, 0 to remove and 61 not upgraded.\n",
            "7 not fully installed or removed.\n",
            "After this operation, 0 B of additional disk space will be used.\n",
            "Setting up gconf2 (3.2.6-4ubuntu1) ...\n",
            "Traceback (most recent call last):\n",
            "  File \"/usr/sbin/gconf-schemas\", line 99, in <module>\n",
            "    open(os.path.join(defaults_dest,\"%gconf-tree.xml\"), \"w\", encoding=\"utf-8\").close()\n",
            "TypeError: 'encoding' is an invalid keyword argument for this function\n",
            "dpkg: error processing package gconf2 (--configure):\n",
            " installed gconf2 package post-installation script subprocess returned error exit status 1\n",
            "dpkg: dependency problems prevent configuration of libgnomevfs2-common:\n",
            " libgnomevfs2-common depends on gconf2 (>= 2.28.1-2); however:\n",
            "  Package gconf2 is not configured yet.\n",
            "\n",
            "dpkg: error processing package libgnomevfs2-common (--configure):\n",
            " dependency problems - leaving unconfigured\n",
            "dpkg: dependency problems prevent configuration of libgnomevfs2-0:amd64:\n",
            " libgnomevfs2-0:amd64 depends on libgnomevfs2-common (= 1:2.24.4-6.1ubuntu2); however:\n",
            "  Package libgnomevfs2-common is not configured yet.\n",
            "\n",
            "dpkg: error processing package libgnomevfs2-0:amd64 (--configure):\n",
            " dependency problems - leaving unconfigured\n",
            "dpkg: dependency problems prevent configuration of libgnome2-common:\n",
            " libgnome2-common depends on gconf2 (>= 2.28.1-2); however:\n",
            "  Package gconf2 is not configured yet.\n",
            "\n",
            "dpkg: error processing package libgnome2-common (--configure):\n",
            " dependency problems - leaving unconfigured\n",
            "dpkg: dependency problems prevent configuration of libgnome-2-0:amd64:\n",
            " libgnome-2-0:amd64 depends on libgnomevfs2-0 (>= 1:2.17.90); however:\n",
            "  Package libgnomevfs2-0:amd64 is not configured yet.\n",
            " libgnome-2-0:amd64 depends on libgnome2-common (= 2.32.1-6); however:\n",
            "  Package libgnome2-common is not configured yet.\n",
            "\n",
            "dpkg: error processing package libgnome-2-0:amd64 (--configure):\n",
            " dependency problems - leaving unconfigured\n",
            "dpkg: dependency problems prevent configuration of libgnome2-0:amd64:\n",
            " libgnome2-0:amd64 depends on libgnome-2-0 (= 2.32.1-6); however:\n",
            "  Package libgnome-2-0:amd64 is not configured yet.\n",
            "\n",
            "dpkg: error processing package libgnome2-0:amd64 (--configure):\n",
            " dependency problems - leaving unconfigured\n",
            "dpkg: dependency problems prevent configuration of libgnome2-bin:\n",
            " libgnome2-bin depends on libgnome-2-0; however:\n",
            "  Package libgnome-2-0:amd64 is not configured yet.\n",
            "\n",
            "dpkg: error processing package libgnome2-bin (--configure):\n",
            " dependency problems - leaving unconfigured\n",
            "Errors were encountered while processing:\n",
            " gconf2\n",
            " libgnomevfs2-common\n",
            " libgnomevfs2-0:amd64\n",
            " libgnome2-common\n",
            " libgnome-2-0:amd64\n",
            " libgnome2-0:amd64\n",
            " libgnome2-bin\n",
            "W: Target Packages (universe/binary-amd64/Packages) is configured multiple times in /etc/apt/sources.list:51 and /etc/apt/sources.list:53\n",
            "W: Target Packages (universe/binary-all/Packages) is configured multiple times in /etc/apt/sources.list:51 and /etc/apt/sources.list:53\n",
            "W: Target Packages (main/binary-amd64/Packages) is configured multiple times in /etc/apt/sources.list:52 and /etc/apt/sources.list:54\n",
            "W: Target Packages (main/binary-all/Packages) is configured multiple times in /etc/apt/sources.list:52 and /etc/apt/sources.list:54\n",
            "E: Sub-process /usr/bin/dpkg returned an error code (1)\n"
          ]
        }
      ]
    },
    {
      "cell_type": "code",
      "metadata": {
        "id": "DOViKgaBcTvo"
      },
      "source": [
        "!rm -r /content/hardware/broadcom/libbt"
      ],
      "execution_count": null,
      "outputs": []
    },
    {
      "cell_type": "code",
      "metadata": {
        "colab": {
          "base_uri": "https://localhost:8080/",
          "height": 1000
        },
        "id": "ntkcwv5NJjRg",
        "outputId": "eb5d8ec0-8817-499b-9a77-2ce3176650ea"
      },
      "source": [
        "%%shell\n",
        ". build/envsetup.sh\n",
        "breakfast cm_goyawifi-eng\n",
        "brunch cm_goyawifi-eng"
      ],
      "execution_count": null,
      "outputs": [
        {
          "output_type": "stream",
          "name": "stdout",
          "text": [
            "including device/generic/armv7-a-neon/vendorsetup.sh\n",
            "including device/generic/goldfish/vendorsetup.sh\n",
            "including device/generic/mips/vendorsetup.sh\n",
            "including device/generic/x86/vendorsetup.sh\n",
            "including device/samsung/goyawifi/vendorsetup.sh\n",
            "including vendor/cm/vendorsetup.sh\n",
            "including sdk/bash_completion/adb.bash\n",
            "including vendor/cm/bash_completion/git.bash\n",
            "including vendor/cm/bash_completion/repo.bash\n",
            "including vendor/cm/vendorsetup.sh\n",
            "Trying dependencies-only mode on a non-existing device tree?\n",
            "\n",
            "============================================\n",
            "PLATFORM_VERSION_CODENAME=REL\n",
            "PLATFORM_VERSION=4.4.4\n",
            "CM_VERSION=11-20211114-UNOFFICIAL-goyawifi\n",
            "TARGET_PRODUCT=cm_goyawifi\n",
            "TARGET_BUILD_VARIANT=eng\n",
            "TARGET_BUILD_TYPE=release\n",
            "TARGET_BUILD_APPS=\n",
            "TARGET_ARCH=arm\n",
            "TARGET_ARCH_VARIANT=armv7-a\n",
            "TARGET_CPU_VARIANT=cortex-a9\n",
            "HOST_ARCH=x86\n",
            "HOST_OS=linux\n",
            "HOST_OS_EXTRA=Linux-5.4.104+-x86_64-with-Ubuntu-18.04-bionic\n",
            "HOST_BUILD_TYPE=release\n",
            "BUILD_ID=KTU84Q\n",
            "OUT_DIR=/content/out\n",
            "============================================\n",
            "\n",
            "including vendor/cm/vendorsetup.sh\n",
            "Trying dependencies-only mode on a non-existing device tree?\n",
            "\n",
            "============================================\n",
            "PLATFORM_VERSION_CODENAME=REL\n",
            "PLATFORM_VERSION=4.4.4\n",
            "CM_VERSION=11-20211114-UNOFFICIAL-goyawifi\n",
            "TARGET_PRODUCT=cm_goyawifi\n",
            "TARGET_BUILD_VARIANT=eng\n",
            "TARGET_BUILD_TYPE=release\n",
            "TARGET_BUILD_APPS=\n",
            "TARGET_ARCH=arm\n",
            "TARGET_ARCH_VARIANT=armv7-a\n",
            "TARGET_CPU_VARIANT=cortex-a9\n",
            "HOST_ARCH=x86\n",
            "HOST_OS=linux\n",
            "HOST_OS_EXTRA=Linux-5.4.104+-x86_64-with-Ubuntu-18.04-bionic\n",
            "HOST_BUILD_TYPE=release\n",
            "BUILD_ID=KTU84Q\n",
            "OUT_DIR=/content/out\n",
            "============================================\n",
            "\n",
            "============================================\n",
            "PLATFORM_VERSION_CODENAME=REL\n",
            "PLATFORM_VERSION=4.4.4\n",
            "CM_VERSION=11-20211114-UNOFFICIAL-goyawifi\n",
            "TARGET_PRODUCT=cm_goyawifi\n",
            "TARGET_BUILD_VARIANT=eng\n",
            "TARGET_BUILD_TYPE=release\n",
            "TARGET_BUILD_APPS=\n",
            "TARGET_ARCH=arm\n",
            "TARGET_ARCH_VARIANT=armv7-a\n",
            "TARGET_CPU_VARIANT=cortex-a9\n",
            "HOST_ARCH=x86\n",
            "HOST_OS=linux\n",
            "HOST_OS_EXTRA=Linux-5.4.104+-x86_64-with-Ubuntu-18.04-bionic\n",
            "HOST_BUILD_TYPE=release\n",
            "BUILD_ID=KTU84Q\n",
            "OUT_DIR=/content/out\n",
            "============================================\n",
            "/content/out/target/product/goyawifi/obj/APPS/SignatureTest_intermediates\n",
            "\"ebtables is disabled on this build\"\n",
            "find: ‘src’: No such file or directory\n",
            "build/core/Makefile:44: warning: overriding recipe for target '/content/out/target/product/goyawifi/system/bin/rfkill'\n",
            "build/core/base_rules.mk:529: warning: ignoring old recipe for target '/content/out/target/product/goyawifi/system/bin/rfkill'\n",
            "build/core/Makefile:44: warning: overriding recipe for target '/content/out/target/product/goyawifi/system/bin/rild'\n",
            "build/core/base_rules.mk:529: warning: ignoring old recipe for target '/content/out/target/product/goyawifi/system/bin/rild'\n",
            "build/core/Makefile:44: warning: overriding recipe for target '/content/out/target/product/goyawifi/system/lib/libreference-ril.so'\n",
            "build/core/base_rules.mk:529: warning: ignoring old recipe for target '/content/out/target/product/goyawifi/system/lib/libreference-ril.so'\n",
            "build/core/Makefile:44: warning: overriding recipe for target '/content/out/target/product/goyawifi/system/lib/libril.so'\n",
            "build/core/base_rules.mk:529: warning: ignoring old recipe for target '/content/out/target/product/goyawifi/system/lib/libril.so'\n",
            "build/core/Makefile:44: warning: overriding recipe for target '/content/out/target/product/goyawifi/system/lib/libcodecjpegdec.so'\n",
            "build/core/base_rules.mk:529: warning: ignoring old recipe for target '/content/out/target/product/goyawifi/system/lib/libcodecjpegdec.so'\n",
            "build/core/Makefile:44: warning: overriding recipe for target '/content/out/target/product/goyawifi/system/lib/libcodecjpegenc.so'\n",
            "build/core/base_rules.mk:529: warning: ignoring old recipe for target '/content/out/target/product/goyawifi/system/lib/libcodecjpegenc.so'\n",
            "build/core/Makefile:44: warning: overriding recipe for target '/content/out/target/product/goyawifi/system/lib/libmiscgen.so'\n",
            "build/core/base_rules.mk:529: warning: ignoring old recipe for target '/content/out/target/product/goyawifi/system/lib/libmiscgen.so'\n",
            "build/core/Makefile:44: warning: overriding recipe for target '/content/out/target/product/goyawifi/system/lib/libasound.so'\n",
            "build/core/base_rules.mk:529: warning: ignoring old recipe for target '/content/out/target/product/goyawifi/system/lib/libasound.so'\n",
            "build/core/Makefile:44: warning: overriding recipe for target '/content/out/target/product/goyawifi/system/lib/libippsp.so'\n",
            "build/core/base_rules.mk:529: warning: ignoring old recipe for target '/content/out/target/product/goyawifi/system/lib/libippsp.so'\n",
            "build/core/Makefile:44: warning: overriding recipe for target '/content/out/target/product/goyawifi/system/lib/libippvp.so'\n",
            "build/core/base_rules.mk:529: warning: ignoring old recipe for target '/content/out/target/product/goyawifi/system/lib/libippvp.so'\n",
            "build/core/Makefile:44: warning: overriding recipe for target '/content/out/target/product/goyawifi/system/lib/libxml2.so'\n",
            "build/core/base_rules.mk:529: warning: ignoring old recipe for target '/content/out/target/product/goyawifi/system/lib/libxml2.so'\n",
            "PRODUCT_COPY_FILES device/samsung/goyawifi/configs/gps.conf:system/etc/gps.conf ignored.\n",
            "PRODUCT_COPY_FILES frameworks/av/media/libeffects/data/audio_effects.conf:system/etc/audio_effects.conf ignored.\n",
            "make: *** No rule to make target 'bacon'.  Stop.\n"
          ]
        },
        {
          "output_type": "error",
          "ename": "CalledProcessError",
          "evalue": "ignored",
          "traceback": [
            "\u001b[0;31m---------------------------------------------------------------------------\u001b[0m",
            "\u001b[0;31mCalledProcessError\u001b[0m                        Traceback (most recent call last)",
            "\u001b[0;32m<ipython-input-38-d2a1abed3bf4>\u001b[0m in \u001b[0;36m<module>\u001b[0;34m()\u001b[0m\n\u001b[0;32m----> 1\u001b[0;31m \u001b[0mget_ipython\u001b[0m\u001b[0;34m(\u001b[0m\u001b[0;34m)\u001b[0m\u001b[0;34m.\u001b[0m\u001b[0mrun_cell_magic\u001b[0m\u001b[0;34m(\u001b[0m\u001b[0;34m'shell'\u001b[0m\u001b[0;34m,\u001b[0m \u001b[0;34m''\u001b[0m\u001b[0;34m,\u001b[0m \u001b[0;34m'. build/envsetup.sh\\nbreakfast cm_goyawifi-eng\\nbrunch cm_goyawifi-eng'\u001b[0m\u001b[0;34m)\u001b[0m\u001b[0;34m\u001b[0m\u001b[0;34m\u001b[0m\u001b[0m\n\u001b[0m",
            "\u001b[0;32m/usr/local/lib/python3.7/dist-packages/IPython/core/interactiveshell.py\u001b[0m in \u001b[0;36mrun_cell_magic\u001b[0;34m(self, magic_name, line, cell)\u001b[0m\n\u001b[1;32m   2115\u001b[0m             \u001b[0mmagic_arg_s\u001b[0m \u001b[0;34m=\u001b[0m \u001b[0mself\u001b[0m\u001b[0;34m.\u001b[0m\u001b[0mvar_expand\u001b[0m\u001b[0;34m(\u001b[0m\u001b[0mline\u001b[0m\u001b[0;34m,\u001b[0m \u001b[0mstack_depth\u001b[0m\u001b[0;34m)\u001b[0m\u001b[0;34m\u001b[0m\u001b[0;34m\u001b[0m\u001b[0m\n\u001b[1;32m   2116\u001b[0m             \u001b[0;32mwith\u001b[0m \u001b[0mself\u001b[0m\u001b[0;34m.\u001b[0m\u001b[0mbuiltin_trap\u001b[0m\u001b[0;34m:\u001b[0m\u001b[0;34m\u001b[0m\u001b[0;34m\u001b[0m\u001b[0m\n\u001b[0;32m-> 2117\u001b[0;31m                 \u001b[0mresult\u001b[0m \u001b[0;34m=\u001b[0m \u001b[0mfn\u001b[0m\u001b[0;34m(\u001b[0m\u001b[0mmagic_arg_s\u001b[0m\u001b[0;34m,\u001b[0m \u001b[0mcell\u001b[0m\u001b[0;34m)\u001b[0m\u001b[0;34m\u001b[0m\u001b[0;34m\u001b[0m\u001b[0m\n\u001b[0m\u001b[1;32m   2118\u001b[0m             \u001b[0;32mreturn\u001b[0m \u001b[0mresult\u001b[0m\u001b[0;34m\u001b[0m\u001b[0;34m\u001b[0m\u001b[0m\n\u001b[1;32m   2119\u001b[0m \u001b[0;34m\u001b[0m\u001b[0m\n",
            "\u001b[0;32m/usr/local/lib/python3.7/dist-packages/google/colab/_system_commands.py\u001b[0m in \u001b[0;36m_shell_cell_magic\u001b[0;34m(args, cmd)\u001b[0m\n\u001b[1;32m    111\u001b[0m   \u001b[0mresult\u001b[0m \u001b[0;34m=\u001b[0m \u001b[0m_run_command\u001b[0m\u001b[0;34m(\u001b[0m\u001b[0mcmd\u001b[0m\u001b[0;34m,\u001b[0m \u001b[0mclear_streamed_output\u001b[0m\u001b[0;34m=\u001b[0m\u001b[0;32mFalse\u001b[0m\u001b[0;34m)\u001b[0m\u001b[0;34m\u001b[0m\u001b[0;34m\u001b[0m\u001b[0m\n\u001b[1;32m    112\u001b[0m   \u001b[0;32mif\u001b[0m \u001b[0;32mnot\u001b[0m \u001b[0mparsed_args\u001b[0m\u001b[0;34m.\u001b[0m\u001b[0mignore_errors\u001b[0m\u001b[0;34m:\u001b[0m\u001b[0;34m\u001b[0m\u001b[0;34m\u001b[0m\u001b[0m\n\u001b[0;32m--> 113\u001b[0;31m     \u001b[0mresult\u001b[0m\u001b[0;34m.\u001b[0m\u001b[0mcheck_returncode\u001b[0m\u001b[0;34m(\u001b[0m\u001b[0;34m)\u001b[0m\u001b[0;34m\u001b[0m\u001b[0;34m\u001b[0m\u001b[0m\n\u001b[0m\u001b[1;32m    114\u001b[0m   \u001b[0;32mreturn\u001b[0m \u001b[0mresult\u001b[0m\u001b[0;34m\u001b[0m\u001b[0;34m\u001b[0m\u001b[0m\n\u001b[1;32m    115\u001b[0m \u001b[0;34m\u001b[0m\u001b[0m\n",
            "\u001b[0;32m/usr/local/lib/python3.7/dist-packages/google/colab/_system_commands.py\u001b[0m in \u001b[0;36mcheck_returncode\u001b[0;34m(self)\u001b[0m\n\u001b[1;32m    137\u001b[0m     \u001b[0;32mif\u001b[0m \u001b[0mself\u001b[0m\u001b[0;34m.\u001b[0m\u001b[0mreturncode\u001b[0m\u001b[0;34m:\u001b[0m\u001b[0;34m\u001b[0m\u001b[0;34m\u001b[0m\u001b[0m\n\u001b[1;32m    138\u001b[0m       raise subprocess.CalledProcessError(\n\u001b[0;32m--> 139\u001b[0;31m           returncode=self.returncode, cmd=self.args, output=self.output)\n\u001b[0m\u001b[1;32m    140\u001b[0m \u001b[0;34m\u001b[0m\u001b[0m\n\u001b[1;32m    141\u001b[0m   \u001b[0;32mdef\u001b[0m \u001b[0m_repr_pretty_\u001b[0m\u001b[0;34m(\u001b[0m\u001b[0mself\u001b[0m\u001b[0;34m,\u001b[0m \u001b[0mp\u001b[0m\u001b[0;34m,\u001b[0m \u001b[0mcycle\u001b[0m\u001b[0;34m)\u001b[0m\u001b[0;34m:\u001b[0m  \u001b[0;31m# pylint:disable=unused-argument\u001b[0m\u001b[0;34m\u001b[0m\u001b[0;34m\u001b[0m\u001b[0m\n",
            "\u001b[0;31mCalledProcessError\u001b[0m: Command '. build/envsetup.sh\nbreakfast cm_goyawifi-eng\nbrunch cm_goyawifi-eng' returned non-zero exit status 2."
          ]
        }
      ]
    }
  ]
}