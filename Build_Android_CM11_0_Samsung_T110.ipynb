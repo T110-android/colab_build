{
  "nbformat": 4,
  "nbformat_minor": 0,
  "metadata": {
    "colab": {
      "name": "Build Android CM11.0 - Samsung T110",
      "provenance": [],
      "collapsed_sections": [],
      "authorship_tag": "ABX9TyPwdNGzOuHbN1cBzk/qhkMK",
      "include_colab_link": true
    },
    "kernelspec": {
      "name": "python3",
      "display_name": "Python 3"
    },
    "language_info": {
      "name": "python"
    }
  },
  "cells": [
    {
      "cell_type": "markdown",
      "metadata": {
        "id": "view-in-github",
        "colab_type": "text"
      },
      "source": [
        "<a href=\"https://colab.research.google.com/github/T110-android/colab_build/blob/main/Build_Android_CM11_0_Samsung_T110.ipynb\" target=\"_parent\"><img src=\"https://colab.research.google.com/assets/colab-badge.svg\" alt=\"Open In Colab\"/></a>"
      ]
    },
    {
      "cell_type": "markdown",
      "metadata": {
        "id": "63f-xO5--6_E"
      },
      "source": [
        ""
      ]
    },
    {
      "cell_type": "code",
      "metadata": {
        "colab": {
          "base_uri": "https://localhost:8080/"
        },
        "id": "myOv9vJj_BW0",
        "outputId": "ccd6e33b-1028-47c6-e4af-f6fe282a99b4"
      },
      "source": [
        "%%bash\n",
        "PATH=/bin:$PATH\n",
        "curl http://commondatastorage.googleapis.com/git-repo-downloads/repo > /bin/repo\n",
        "chmod a+x /bin/repo\n",
        "\n",
        "git config --global user.email \"example@email.com\"\n",
        "git config --global user.name \"Example Mail\"\n",
        "\n",
        "rm -r /content/sample_data\n",
        "\n",
        "repo init --depth=1 -u git://github.com/CyanogenMod/android.git -b cm-11.0"
      ],
      "execution_count": 5,
      "outputs": [
        {
          "output_type": "stream",
          "name": "stderr",
          "text": [
            "  % Total    % Received % Xferd  Average Speed   Time    Time     Time  Current\n",
            "                                 Dload  Upload   Total   Spent    Left  Speed\n",
            "\r  0     0    0     0    0     0      0      0 --:--:-- --:--:-- --:--:--     0\r100 44944  100 44944    0     0  4876k      0 --:--:-- --:--:-- --:--:-- 4876k\n"
          ]
        }
      ]
    },
    {
      "cell_type": "code",
      "metadata": {
        "colab": {
          "base_uri": "https://localhost:8080/"
        },
        "id": "rcORhQTBIQsM",
        "outputId": "9ed00106-3ad7-4f0e-d90c-ecb91d5ca15f"
      },
      "source": [
        "!git clone https://github.com/T110-android/android_platform_manifest /content/.repo/local_manifests/\n",
        "!rm -r /content/.repo/local_manifests/.git"
      ],
      "execution_count": 32,
      "outputs": [
        {
          "output_type": "stream",
          "name": "stdout",
          "text": [
            "fatal: destination path '/content/.repo/local_manifests' already exists and is not an empty directory.\n"
          ]
        }
      ]
    },
    {
      "cell_type": "code",
      "metadata": {
        "colab": {
          "base_uri": "https://localhost:8080/"
        },
        "id": "xcveQuznChr2",
        "outputId": "02a9e576-3389-4376-a470-8e103305181d"
      },
      "source": [
        "!repo sync -f -c --force-sync --no-clone-bundle --no-tags -j$(nproc --all)"
      ],
      "execution_count": 31,
      "outputs": [
        {
          "output_type": "stream",
          "name": "stdout",
          "text": [
            "warning: -f/--force-broken is now the default behavior, and the options are deprecated\n",
            "remote: Total 0 (delta 0), reused 0 (delta 0), pack-reused 0\u001b[K\n",
            "Fetching:  0% (0/472) warming uperror: svn is different in /content/.repo/projects/hardware/libhardware.git vs /content/.repo/project-objects/android_hardware_libhardware.git\n",
            "Retrying clone after deleting /content/.repo/projects/hardware/libhardware.git\n",
            "error: svn is different in /content/.repo/projects/hardware/libhardware_legacy.git vs /content/.repo/project-objects/android_hardware_libhardware_legacy.git\n",
            "Retrying clone after deleting /content/.repo/projects/hardware/libhardware_legacy.git\n",
            "Fetching: 100% (472/472), done in 1m0.219s\n",
            "Garbage collecting: 100% (472/472), done in 2.784s\n",
            "Checking out files: 100% (39970/39970), done.\n",
            "Checking out: 100% (472/472), done in 19.362s\n",
            "repo sync has finished successfully.\n"
          ]
        }
      ]
    },
    {
      "cell_type": "code",
      "metadata": {
        "id": "e7OZ7IxqNLNk"
      },
      "source": [
        "!echo \"deb http://archive.ubuntu.com/ubuntu/ trusty universe\" >> /etc/apt/sources.list\n",
        "!echo \"deb http://archive.ubuntu.com/ubuntu/ trusty main\" >> /etc/apt/sources.list"
      ],
      "execution_count": 56,
      "outputs": []
    },
    {
      "cell_type": "code",
      "metadata": {
        "colab": {
          "base_uri": "https://localhost:8080/"
        },
        "id": "0y0G-cIHNvvj",
        "outputId": "d922bf4b-9466-454a-a3ae-d3b61287f3c1"
      },
      "source": [
        "!sudo apt-get update"
      ],
      "execution_count": 66,
      "outputs": [
        {
          "output_type": "stream",
          "name": "stdout",
          "text": [
            "\r0% [Working]\r            \rHit:1 http://security.ubuntu.com/ubuntu bionic-security InRelease\n",
            "\r0% [Connecting to archive.ubuntu.com (91.189.88.142)] [Waiting for headers] [Co\r0% [1 InRelease gpgv 88.7 kB] [Connecting to archive.ubuntu.com (91.189.88.142)\r                                                                               \rHit:2 https://cloud.r-project.org/bin/linux/ubuntu bionic-cran40/ InRelease\n",
            "Ign:3 https://developer.download.nvidia.com/compute/cuda/repos/ubuntu1804/x86_64  InRelease\n",
            "Hit:4 http://ppa.launchpad.net/c2d4u.team/c2d4u4.0+/ubuntu bionic InRelease\n",
            "Ign:5 https://developer.download.nvidia.com/compute/machine-learning/repos/ubuntu1804/x86_64  InRelease\n",
            "Hit:6 https://developer.download.nvidia.com/compute/cuda/repos/ubuntu1804/x86_64  Release\n",
            "Hit:7 https://developer.download.nvidia.com/compute/machine-learning/repos/ubuntu1804/x86_64  Release\n",
            "Hit:8 http://archive.ubuntu.com/ubuntu bionic InRelease\n",
            "Hit:9 http://archive.ubuntu.com/ubuntu bionic-updates InRelease\n",
            "Hit:10 http://ppa.launchpad.net/cran/libgit2/ubuntu bionic InRelease\n",
            "Hit:11 http://archive.ubuntu.com/ubuntu bionic-backports InRelease\n",
            "Ign:13 http://archive.ubuntu.com/ubuntu trusty InRelease\n",
            "Hit:14 http://ppa.launchpad.net/deadsnakes/ppa/ubuntu bionic InRelease\n",
            "Hit:16 http://archive.ubuntu.com/ubuntu trusty Release\n",
            "Hit:17 http://ppa.launchpad.net/graphics-drivers/ppa/ubuntu bionic InRelease\n",
            "Get:19 http://archive.ubuntu.com/ubuntu trusty/main amd64 Packages [1,743 kB]\n",
            "Fetched 1,743 kB in 2s (765 kB/s)\n",
            "Reading package lists... Done\n"
          ]
        }
      ]
    },
    {
      "cell_type": "code",
      "metadata": {
        "colab": {
          "base_uri": "https://localhost:8080/"
        },
        "id": "2K7osue7La-j",
        "outputId": "a096b7dd-4848-47a0-a701-75fa75c541a5"
      },
      "source": [
        "!sudo apt-get install  tzdata=2014b-1 tzdata-java libnss3=2:3.15.4-1ubuntu7  libnss3-1d \\\n",
        " ca-certificates-java/trusty openjdk-7-jre-headless  openjdk-7-jdk openjdk-7-jre \\"
      ],
      "execution_count": 93,
      "outputs": [
        {
          "output_type": "stream",
          "name": "stdout",
          "text": [
            "Reading package lists... Done\n",
            "Building dependency tree       \n",
            "Reading state information... Done\n",
            "ca-certificates-java is already the newest version (20130815ubuntu1).\n",
            "ca-certificates-java set to manually installed.\n",
            "libnss3 is already the newest version (2:3.15.4-1ubuntu7).\n",
            "libnss3-1d is already the newest version (2:3.15.4-1ubuntu7).\n",
            "openjdk-7-jdk is already the newest version (7u51-2.4.6-1ubuntu4).\n",
            "openjdk-7-jre is already the newest version (7u51-2.4.6-1ubuntu4).\n",
            "openjdk-7-jre-headless is already the newest version (7u51-2.4.6-1ubuntu4).\n",
            "tzdata is already the newest version (2014b-1).\n",
            "tzdata set to manually installed.\n",
            "tzdata-java is already the newest version (2014b-1).\n",
            "Selected version '20130815ubuntu1' (Ubuntu:14.04/trusty [all]) for 'ca-certificates-java'\n",
            "The following packages were automatically installed and are no longer required:\n",
            "  default-libmysqlclient-dev gdal-data libarmadillo-dev libarmadillo8\n",
            "  libarpack2 libarpack2-dev libavcodec-dev libavformat-dev libavresample-dev\n",
            "  libavutil-dev libcharls1 libdap-dev libdap25 libdapclient6v5 libdapserver7v5\n",
            "  libdc1394-22-dev libepsilon-dev libepsilon1 libexif-dev libexif12\n",
            "  libfreexl-dev libfreexl1 libfyba-dev libfyba0 libgdcm2-dev libgdcm2.8\n",
            "  libgeos-3.6.2 libgeos-c1v5 libgeos-dev libgeotiff-dev libgeotiff2 libgif-dev\n",
            "  libgif7 libgl2ps1.4 libgphoto2-6 libgphoto2-dev libgphoto2-port12\n",
            "  libhdf4-0-alt libhdf4-alt-dev libhdf5-openmpi-100 libilmbase-dev\n",
            "  libilmbase12 libjbig-dev libjson-c-dev libkml-dev libkmlbase1\n",
            "  libkmlconvenience1 libkmldom1 libkmlengine1 libkmlregionator1 libkmlxsd1\n",
            "  liblept5 libminizip-dev libminizip1 libmysqlclient-dev libmysqlclient20\n",
            "  libnetcdf-c++4 libnetcdf-dev libnetcdf13 libodbc1 libogdi3.2 libogdi3.2-dev\n",
            "  libopencv-core-dev libopencv-core3.2 libopencv-flann-dev libopencv-flann3.2\n",
            "  libopencv-imgproc-dev libopencv-imgproc3.2 libopencv-ml-dev libopencv-ml3.2\n",
            "  libopencv-photo-dev libopencv-photo3.2 libopencv-shape-dev\n",
            "  libopencv-shape3.2 libopencv-ts-dev libopencv-video-dev libopencv-video3.2\n",
            "  libopenexr-dev libopenexr22 libopenjp2-7-dev libpq-dev libpq5 libproj-dev\n",
            "  libproj12 libqhull-dev libqhull-r7 libqhull7 libraw1394-dev libsocket++1\n",
            "  libspatialite-dev libspatialite7 libsqlite3-dev libsuperlu-dev libsuperlu5\n",
            "  libswresample-dev libswscale-dev libtbb-dev libtbb2 libtesseract4\n",
            "  libtiff-dev libtiff5-dev libtiffxx5 liburiparser-dev liburiparser1\n",
            "  libwebp-dev libxerces-c-dev libxerces-c3.2 mysql-common odbcinst\n",
            "  odbcinst1debian2 proj-data python-numpy unixodbc-dev\n",
            "Use 'sudo apt autoremove' to remove them.\n",
            "0 upgraded, 0 newly installed, 0 to remove and 61 not upgraded.\n"
          ]
        }
      ]
    },
    {
      "cell_type": "code",
      "metadata": {
        "colab": {
          "base_uri": "https://localhost:8080/"
        },
        "id": "ntkcwv5NJjRg",
        "outputId": "061fb104-cc9f-4c89-c4ce-2d7906091ba8"
      },
      "source": [
        "%%shell\n",
        ". build/envsetup.sh\n",
        "breakfast goyawifi\n",
        "brunch goyawifi"
      ],
      "execution_count": 94,
      "outputs": [
        {
          "output_type": "stream",
          "name": "stdout",
          "text": [
            "including device/generic/armv7-a-neon/vendorsetup.sh\n",
            "including device/generic/goldfish/vendorsetup.sh\n",
            "including device/generic/mips/vendorsetup.sh\n",
            "including device/generic/x86/vendorsetup.sh\n",
            "including device/samsung/goyawifi/vendorsetup.sh\n",
            "including vendor/cm/vendorsetup.sh\n",
            "including sdk/bash_completion/adb.bash\n",
            "including vendor/cm/bash_completion/git.bash\n",
            "including vendor/cm/bash_completion/repo.bash\n",
            "including vendor/cm/vendorsetup.sh\n",
            "Trying dependencies-only mode on a non-existing device tree?\n",
            "\n",
            "============================================\n",
            "PLATFORM_VERSION_CODENAME=REL\n",
            "PLATFORM_VERSION=4.4.4\n",
            "CM_VERSION=11-20211113-UNOFFICIAL-goyawifi\n",
            "TARGET_PRODUCT=cm_goyawifi\n",
            "TARGET_BUILD_VARIANT=userdebug\n",
            "TARGET_BUILD_TYPE=release\n",
            "TARGET_BUILD_APPS=\n",
            "TARGET_ARCH=arm\n",
            "TARGET_ARCH_VARIANT=armv7-a\n",
            "TARGET_CPU_VARIANT=cortex-a9\n",
            "HOST_ARCH=x86\n",
            "HOST_OS=linux\n",
            "HOST_OS_EXTRA=Linux-5.4.104+-x86_64-with-Ubuntu-18.04-bionic\n",
            "HOST_BUILD_TYPE=release\n",
            "BUILD_ID=KTU84Q\n",
            "OUT_DIR=/content/out\n",
            "============================================\n",
            "\n"
          ]
        },
        {
          "output_type": "execute_result",
          "data": {
            "text/plain": [
              ""
            ]
          },
          "metadata": {},
          "execution_count": 94
        }
      ]
    }
  ]
}