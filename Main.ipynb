{
  "cells": [
    {
      "cell_type": "markdown",
      "metadata": {
        "colab_type": "text",
        "id": "view-in-github"
      },
      "source": [
        "<a href=\"https://colab.research.google.com/github/T110-android/colab_build/blob/main/Main.ipynb\" target=\"_parent\"><img src=\"https://colab.research.google.com/assets/colab-badge.svg\" alt=\"Open In Colab\"/></a>"
      ]
    },
    {
      "cell_type": "markdown",
      "metadata": {},
      "source": [
        "# VPS Set-up"
      ]
    },
    {
      "cell_type": "markdown",
      "metadata": {},
      "source": [
        "# READ https://github.com/WassimBenzarti/colab-ssh#getting-started\n",
        "!pip install colab_ssh --upgrade\n",
        "from colab_ssh import launch_ssh_cloudflared\n",
        "\n",
        "# launch_ssh_cloudflared(password=\"<PUT_YOUR_PASSWORD_HERE>\")\n",
        "launch_ssh_cloudflared(password=\"q\")\n",
        "\n",
        "# SSH Config File Windows PowerShell\n",
        "# Create C:\\Users\\USERNAME\\.ssh\\config\n",
        "# Copy Client machine configuration config bellow (appears after you run this block)\n",
        "# https://developers.cloudflare.com/cloudflare-one/connections/connect-apps/install-and-setup/tunnel-guide#1-download-and-install-cloudflared\n",
        "# Download Cloudflare client and put in in C:\\bin\\cloudflared.exe and replace <PUT_THE_ABSOLUTE_CLOUDFLARE_PATH_HERE> with that.\n",
        "# Then you should be able to SSH from Windows Powershell"
      ]
    },
    {
      "cell_type": "markdown",
      "metadata": {},
      "source": [
        "# Repo Tool Set-up"
      ]
    },
    {
      "cell_type": "code",
      "execution_count": null,
      "metadata": {
        "colab": {
          "base_uri": "https://localhost:8080/"
        },
        "id": "myOv9vJj_BW0",
        "outputId": "4bb1f914-e698-4837-f274-d9ca3249bd84"
      },
      "outputs": [],
      "source": [
        "%%bash\n",
        "PATH=/bin:$PATH\n",
        "curl http://commondatastorage.googleapis.com/git-repo-downloads/repo > /bin/repo\n",
        "chmod a+x /bin/repo\n",
        "\n",
        "git config --global user.email \"example@email.com\"\n",
        "git config --global user.name \"Example Mail\"\n",
        "\n",
        "rm -rf /content/sample_data\n",
        "\n",
        "repo init --depth=1 -u git://github.com/CyanogenMod/android.git -b cm-11.0"
      ]
    },
    {
      "cell_type": "code",
      "execution_count": null,
      "metadata": {
        "colab": {
          "base_uri": "https://localhost:8080/"
        },
        "id": "JkaKtGBGWhaT",
        "outputId": "4ebd479d-0b91-4ddf-8e26-536ace865094"
      },
      "outputs": [],
      "source": [
        "!update-alternatives --install /usr/bin/python python /usr/bin/python2.7 10\n",
        "!update-alternatives --install /usr/bin/python3 python3 /usr/bin/python2.7 3\n",
        "!update-alternatives --set python3 /usr/bin/python2.7"
      ]
    },
    {
      "cell_type": "markdown",
      "metadata": {},
      "source": [
        "# Source Sync"
      ]
    },
    {
      "cell_type": "code",
      "execution_count": null,
      "metadata": {
        "colab": {
          "base_uri": "https://localhost:8080/"
        },
        "id": "xcveQuznChr2",
        "outputId": "938c3e97-973f-4ae9-a56b-556d775dbb8a"
      },
      "outputs": [],
      "source": [
        "!git clone https://github.com/T110-android/android_platform_manifest /content/.repo/local_manifests/\n",
        "!rm -r /content/.repo/local_manifests/.git\n",
        "!repo sync -f -c --force-sync --no-clone-bundle --no-tags -j$(nproc --all)\n",
        "!rm -r /content/hardware/broadcom/libbt"
      ]
    },
    {
      "cell_type": "markdown",
      "metadata": {},
      "source": [
        "# Dependencies"
      ]
    },
    {
      "cell_type": "code",
      "execution_count": null,
      "metadata": {
        "colab": {
          "base_uri": "https://localhost:8080/"
        },
        "id": "2K7osue7La-j",
        "outputId": "2b621a63-072f-4706-a4ee-d0d1cf9a3ebb"
      },
      "outputs": [],
      "source": [
        "!echo \"deb http://archive.ubuntu.com/ubuntu/ trusty universe\" >> /etc/apt/sources.list\n",
        "!echo \"deb http://archive.ubuntu.com/ubuntu/ trusty main\" >> /etc/apt/sources.list\n",
        "!sudo apt-get update\n",
        "!sudo apt-get install  tzdata=2014b-1 tzdata-java libnss3=2:3.15.4-1ubuntu7  libnss3-1d \\\n",
        " ca-certificates-java/trusty wget \\\n",
        " schedtool libbison-dev/trusty bison/trusty flex/trusty gperf/trusty lib32z1/trusty"
      ]
    },
    {
      "cell_type": "markdown",
      "metadata": {},
      "source": [
        "# JDK 6 Install"
      ]
    },
    {
      "cell_type": "code",
      "execution_count": null,
      "metadata": {},
      "outputs": [],
      "source": [
        "mkdir /content/.jdk_6\n",
        "cd /content/.jdk_6\n",
        "wget https://repo.huaweicloud.com/java/jdk/6u45-b06/jdk-6u45-linux-x64.bin\n",
        "chmod +x jdk-6u45-linux-x64.bin\n",
        "./jdk-6u45-linux-x64.bin\n",
        "sudo update-alternatives --install /usr/bin/javac javac  /content/.jdk_6/jdk1.6.0_45/bin/javac 1\n",
        "sudo update-alternatives --set javac /content/.jdk_6/jdk1.6.0_45/bin/javac\n",
        "\n",
        "sudo update-alternatives --install /usr/bin/java java  /content/.jdk_6/jdk1.6.0_45/bin/java 1\n",
        "sudo update-alternatives --set java /content/.jdk_6/jdk1.6.0_45/bin/java\n",
        "\n",
        "sudo update-alternatives --install /usr/bin/javaws javaws  /content/.jdk_6/jdk1.6.0_45/bin/javaws 1\n",
        "sudo update-alternatives --set javaws /content/.jdk_6/jdk1.6.0_45/bin/javaws\n",
        "\n",
        "sudo update-alternatives --install /usr/bin/javadoc javadoc  /content/.jdk_6/jdk1.6.0_45/bin/javadoc 1\n",
        "sudo update-alternatives --set javadoc /content/.jdk_6/jdk1.6.0_45/bin/javadoc\n",
        "\n",
        "sudo update-alternatives --install /usr/bin/javah javah  /content/.jdk_6/jdk1.6.0_45/bin/javah 1\n",
        "sudo update-alternatives --set javah /content/.jdk_6/jdk1.6.0_45/bin/javah\n",
        "\n",
        "sudo update-alternatives --install /usr/bin/javap javap  /content/.jdk_6/jdk1.6.0_45/bin/javap 1\n",
        "sudo update-alternatives --set javap /content/.jdk_6/jdk1.6.0_45/bin/javap\n",
        "\n",
        "sudo update-alternatives --install /usr/bin/jar jar  /content/.jdk_6/jdk1.6.0_45/bin/jar 1\n",
        "sudo update-alternatives --set jar /content/.jdk_6/jdk1.6.0_45/bin/jar"
      ]
    },
    {
      "cell_type": "markdown",
      "metadata": {},
      "source": [
        "# Compile"
      ]
    },
    {
      "cell_type": "code",
      "execution_count": null,
      "metadata": {
        "id": "ntkcwv5NJjRg"
      },
      "outputs": [],
      "source": [
        "%%shell\n",
        ". build/envsetup.sh\n",
        "brunch cm_goyawifi-eng"
      ]
    }
  ],
  "metadata": {
    "colab": {
      "authorship_tag": "ABX9TyM8OfISU/5dGn5HwBDOvC0M",
      "collapsed_sections": [],
      "include_colab_link": true,
      "name": "Build Android CM11.0 - Samsung T110",
      "provenance": []
    },
    "kernelspec": {
      "display_name": "Python 3",
      "name": "python3"
    },
    "language_info": {
      "name": "python"
    }
  },
  "nbformat": 4,
  "nbformat_minor": 0
}
